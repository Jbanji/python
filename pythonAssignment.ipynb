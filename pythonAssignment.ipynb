{
 "cells": [
  {
   "cell_type": "markdown",
   "id": "cce7d1e8-4eca-4a65-9d56-e228ac7516df",
   "metadata": {},
   "source": [
    "# DATA TYPE"
   ]
  },
  {
   "cell_type": "markdown",
   "id": "fa2f6b3f-0102-47b1-8cc0-2ecc6cb56104",
   "metadata": {},
   "source": [
    "## Integers"
   ]
  },
  {
   "cell_type": "code",
   "execution_count": 2,
   "id": "9db43977-4561-472c-8b22-5e4081761fc4",
   "metadata": {},
   "outputs": [
    {
     "name": "stdout",
     "output_type": "stream",
     "text": [
      "9\n",
      "<class 'int'>\n"
     ]
    }
   ],
   "source": [
    "x = 9\n",
    "print (x)\n",
    "print (type(x))"
   ]
  },
  {
   "cell_type": "markdown",
   "id": "5e209209-c489-4705-85c8-fcf61679260b",
   "metadata": {},
   "source": [
    "## Float"
   ]
  },
  {
   "cell_type": "code",
   "execution_count": 3,
   "id": "dfaba1b3-00e0-4397-aea4-afd3f5f9d945",
   "metadata": {},
   "outputs": [
    {
     "name": "stdout",
     "output_type": "stream",
     "text": [
      "6.12\n",
      "<class 'float'>\n"
     ]
    }
   ],
   "source": [
    "y = 6.12\n",
    "print (y)\n",
    "print (type(y))"
   ]
  },
  {
   "cell_type": "markdown",
   "id": "cbaf5a7e-ffe8-4142-b982-bf68ef40454f",
   "metadata": {},
   "source": [
    "## Complex"
   ]
  },
  {
   "cell_type": "code",
   "execution_count": 4,
   "id": "4536bd74-2af7-41d8-ba78-7b9c21bf8b31",
   "metadata": {},
   "outputs": [
    {
     "name": "stdout",
     "output_type": "stream",
     "text": [
      "(6+3j)\n",
      "<class 'complex'>\n"
     ]
    }
   ],
   "source": [
    "z = 6 + 3j\n",
    "print (z)\n",
    "print (type(z))"
   ]
  },
  {
   "cell_type": "markdown",
   "id": "993c688a-ba21-49a4-89cd-76205e863e96",
   "metadata": {},
   "source": [
    "## String"
   ]
  },
  {
   "cell_type": "code",
   "execution_count": 8,
   "id": "5e2b2583-fbbb-4f40-849d-96415c81db60",
   "metadata": {},
   "outputs": [
    {
     "name": "stdout",
     "output_type": "stream",
     "text": [
      "Do you like learning python?\n",
      "<class 'str'>\n"
     ]
    }
   ],
   "source": [
    "j = \"Do you like learning python?\"\n",
    "print (j)\n",
    "print (type(j))"
   ]
  },
  {
   "cell_type": "markdown",
   "id": "ca40a6b7-cd59-441b-b02e-63243d3d58fd",
   "metadata": {},
   "source": [
    "## Boolean"
   ]
  },
  {
   "cell_type": "code",
   "execution_count": 11,
   "id": "4ee19c1f-c277-43fd-8ea7-9c22ff544997",
   "metadata": {},
   "outputs": [
    {
     "name": "stdout",
     "output_type": "stream",
     "text": [
      "true\n",
      "<class 'str'>\n"
     ]
    }
   ],
   "source": [
    "p = \"true\"\n",
    "print (p)\n",
    "print (type(p))"
   ]
  },
  {
   "cell_type": "markdown",
   "id": "d18a5b2e-e542-469f-8f3b-fdbb7b3916c5",
   "metadata": {},
   "source": [
    "# DATA STRUCTURES"
   ]
  },
  {
   "cell_type": "markdown",
   "id": "1c56bd7f-6845-4d64-b269-f1f526c81b7d",
   "metadata": {},
   "source": [
    "## Set"
   ]
  },
  {
   "cell_type": "code",
   "execution_count": 14,
   "id": "3c292beb-4a5a-4b0c-9b53-19ce09de569c",
   "metadata": {},
   "outputs": [
    {
     "name": "stdout",
     "output_type": "stream",
     "text": [
      "{'cabbage', 'carrot', 'peas', 'lettuce'}\n",
      "<class 'set'>\n"
     ]
    }
   ],
   "source": [
    "veggies = {\"cabbage\" , \"carrot\" , \"lettuce\" , \"peas\"}\n",
    "print (veggies)\n",
    "print (type(veggies))\n"
   ]
  },
  {
   "cell_type": "markdown",
   "id": "b2b4517c-3fb0-41ad-b79f-9c6a425e8dab",
   "metadata": {},
   "source": [
    "## Dictionary"
   ]
  },
  {
   "cell_type": "code",
   "execution_count": 15,
   "id": "4b061fb6-934a-481d-a2a4-dac081a02944",
   "metadata": {},
   "outputs": [
    {
     "name": "stdout",
     "output_type": "stream",
     "text": [
      "{'name': 'Chima', 'age': 15, 'CGPA': '4.6'}\n",
      "<class 'dict'>\n"
     ]
    }
   ],
   "source": [
    "student = {\"name\": \"Chima\", \"age\": 15, \"CGPA\": \"4.6\"}\n",
    "print (student)\n",
    "print (type(student))"
   ]
  },
  {
   "cell_type": "markdown",
   "id": "53bd5165-d3c7-4739-a9c4-ea7f4c5b3acd",
   "metadata": {},
   "source": [
    "## List"
   ]
  },
  {
   "cell_type": "code",
   "execution_count": 16,
   "id": "9afc6ee7-53bf-4a95-9ba1-ceafeafd4c4e",
   "metadata": {},
   "outputs": [
    {
     "name": "stdout",
     "output_type": "stream",
     "text": [
      "[19, 21, 26, 30, 29]\n",
      "<class 'list'>\n"
     ]
    }
   ],
   "source": [
    "numbers = [ 19, 21, 26, 30, 29]\n",
    "print (numbers)\n",
    "print (type(numbers))"
   ]
  },
  {
   "cell_type": "markdown",
   "id": "5a373a94-fc4e-4343-ad74-29cc6fce6138",
   "metadata": {},
   "source": [
    "## Tuple"
   ]
  },
  {
   "cell_type": "code",
   "execution_count": 17,
   "id": "0fd20ed1-73d3-452d-90fc-567badb766ed",
   "metadata": {},
   "outputs": [
    {
     "name": "stdout",
     "output_type": "stream",
     "text": [
      "('green', 'pink', 'purple')\n",
      "<class 'tuple'>\n"
     ]
    }
   ],
   "source": [
    "colours = (\"green\", \"pink\", \"purple\")\n",
    "print (colours)\n",
    "print (type(colours))"
   ]
  },
  {
   "cell_type": "code",
   "execution_count": null,
   "id": "9bad1ab8-7ab2-4b64-8ce3-d35ca8383079",
   "metadata": {},
   "outputs": [],
   "source": []
  }
 ],
 "metadata": {
  "kernelspec": {
   "display_name": "Python 3 (ipykernel)",
   "language": "python",
   "name": "python3"
  },
  "language_info": {
   "codemirror_mode": {
    "name": "ipython",
    "version": 3
   },
   "file_extension": ".py",
   "mimetype": "text/x-python",
   "name": "python",
   "nbconvert_exporter": "python",
   "pygments_lexer": "ipython3",
   "version": "3.13.7"
  }
 },
 "nbformat": 4,
 "nbformat_minor": 5
}
